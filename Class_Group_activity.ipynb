{
  "nbformat": 4,
  "nbformat_minor": 0,
  "metadata": {
    "colab": {
      "provenance": []
    },
    "kernelspec": {
      "name": "python3",
      "display_name": "Python 3"
    },
    "language_info": {
      "name": "python"
    }
  },
  "cells": [
    {
      "cell_type": "markdown",
      "source": [
        "## 1. Largest Difference in List"
      ],
      "metadata": {
        "id": "0ijYPj0baw2f"
      }
    },
    {
      "cell_type": "code",
      "source": [
        "inputList = [1, 2, 90, 10, 110]\n",
        "\n",
        "v1=0\n",
        "v2=0\n",
        "maxDiff=0\n",
        "for i in range(0,len(inputList)-1):\n",
        "  for j in range(i,len(inputList)):\n",
        "    if ( abs(inputList[i]-inputList[j]) > maxDiff):\n",
        "      maxDiff = abs(inputList[i]-inputList[j])\n",
        "      v1= inputList[i]\n",
        "      v2=inputList[j]\n",
        "\n",
        "print(f\" The largest difference is between {v1} and {v2},which is {maxDiff}\")"
      ],
      "metadata": {
        "colab": {
          "base_uri": "https://localhost:8080/"
        },
        "id": "5VlL3LXjaxbl",
        "outputId": "95dc4d60-aa75-4722-ff88-f8180723b013"
      },
      "execution_count": 5,
      "outputs": [
        {
          "output_type": "stream",
          "name": "stdout",
          "text": [
            " The largest difference is between 1 and 110,which is 109\n"
          ]
        }
      ]
    },
    {
      "cell_type": "markdown",
      "source": [
        "## 2. First Non-Repeating Character"
      ],
      "metadata": {
        "id": "sYKBxk_5azE_"
      }
    },
    {
      "cell_type": "code",
      "source": [
        "def FirstNonRepeatingCharacter(input):\n",
        "  isNonReapeating =True\n",
        "  for i in range(len(input)):\n",
        "        isNonReapeating = True\n",
        "        for j in range(len(input)):\n",
        "            if (i != j and input[i] == input[j]):\n",
        "                isNonReapeating = False\n",
        "                break\n",
        "        if (isNonReapeating):\n",
        "            return input[i]\n",
        "  return None\n",
        "\n",
        "print(\"This first non repeating character is : \",FirstNonRepeatingCharacter(\"aabcc\"))"
      ],
      "metadata": {
        "colab": {
          "base_uri": "https://localhost:8080/"
        },
        "id": "pkEb1g76azdN",
        "outputId": "9c6be540-bc54-487d-fc7b-8b504008ba38"
      },
      "execution_count": 6,
      "outputs": [
        {
          "output_type": "stream",
          "name": "stdout",
          "text": [
            "This first non repeating character is :  b\n"
          ]
        }
      ]
    },
    {
      "cell_type": "markdown",
      "source": [
        "## 3. Check If Strings Are Permutations"
      ],
      "metadata": {
        "id": "m1JrP1PHa05M"
      }
    },
    {
      "cell_type": "code",
      "source": [
        "#To Check permutation\n",
        "def CheckPermutations(v1,v2):\n",
        "  dict1={}\n",
        "  dict2={}\n",
        "  for i in range(len(v1)):\n",
        "    if ( dict1.get(v1[i])):\n",
        "      dict1[v1[i]]+=1\n",
        "    else:\n",
        "      dict1[v1[i]] =1\n",
        "  for i in range(len(v2)):\n",
        "    if ( dict2.get(v2[i])):\n",
        "      dict2[v2[i]]+=1\n",
        "    else:\n",
        "      dict2[v2[i]] =1\n",
        "\n",
        "  return dict1 == dict2\n",
        "\n",
        "\n",
        "print(CheckPermutations(\"abc\",\"bca\"))"
      ],
      "metadata": {
        "colab": {
          "base_uri": "https://localhost:8080/"
        },
        "id": "K-aDlLbQa1gk",
        "outputId": "10e76496-e144-4a9a-8a6a-3c8f53dbff41"
      },
      "execution_count": 7,
      "outputs": [
        {
          "output_type": "stream",
          "name": "stdout",
          "text": [
            "True\n"
          ]
        }
      ]
    },
    {
      "cell_type": "markdown",
      "source": [
        "## 4. Find the Second Largest Unique Number"
      ],
      "metadata": {
        "id": "csP5BmLWa2EP"
      }
    },
    {
      "cell_type": "code",
      "source": [
        "inputListOfNumbers= [4, 5, 6, 6, 7]\n",
        "\n",
        "def FindtheSecondLargestUniqueNumber(input):\n",
        "  uniqueNumbers = set(input)\n",
        "  largest=0\n",
        "  secondLargest=0\n",
        "  for x in uniqueNumbers:\n",
        "        if x > largest:\n",
        "            secondLargest = largest\n",
        "            largest = x\n",
        "        elif x > secondLargest:\n",
        "            secondLargest = x\n",
        "\n",
        "  return secondLargest\n",
        "\n",
        "print(\"The second largest unique number is\",FindtheSecondLargestUniqueNumber(inputListOfNumbers))\n"
      ],
      "metadata": {
        "colab": {
          "base_uri": "https://localhost:8080/"
        },
        "id": "hDUhrcWVa2sN",
        "outputId": "09b69c99-f0c5-45b0-9ba3-67111dbd9238"
      },
      "execution_count": 8,
      "outputs": [
        {
          "output_type": "stream",
          "name": "stdout",
          "text": [
            "The second largest unique number is 6\n"
          ]
        }
      ]
    },
    {
      "cell_type": "markdown",
      "source": [
        "## 5. Count Distinct Pairs"
      ],
      "metadata": {
        "id": "N9L_JtM-a3Mu"
      }
    },
    {
      "cell_type": "code",
      "source": [
        "nums = [1, 2, 3, 4, 3, 6]\n",
        "target = 6\n",
        "\n",
        "seen = set()\n",
        "pairs = set()\n",
        "\n",
        "for num in nums:\n",
        "    complement = target - num\n",
        "    if complement in seen:\n",
        "        pairs.add(tuple(sorted((num, complement))))\n",
        "    seen.add(num)\n",
        "\n",
        "print(len(pairs))"
      ],
      "metadata": {
        "colab": {
          "base_uri": "https://localhost:8080/"
        },
        "id": "9eInA_sJa4FI",
        "outputId": "84161e08-0d7f-4cb6-dd2a-355c03a89add"
      },
      "execution_count": 9,
      "outputs": [
        {
          "output_type": "stream",
          "name": "stdout",
          "text": [
            "2\n"
          ]
        }
      ]
    },
    {
      "cell_type": "markdown",
      "source": [
        "## 6. Remove Duplicates from List"
      ],
      "metadata": {
        "id": "hEF5NHGWa47t"
      }
    },
    {
      "cell_type": "code",
      "source": [
        "duplicated_nums = [1, 2, 2, 3, 4, 5, 1]\n",
        "unique_num = set()\n",
        "result = []\n",
        "\n",
        "for x in duplicated_nums:\n",
        "    if x not in unique_num:\n",
        "        result.append(x)\n",
        "        unique_num.add(x)\n",
        "\n",
        "print(result)"
      ],
      "metadata": {
        "colab": {
          "base_uri": "https://localhost:8080/"
        },
        "id": "OFDBh3oFa8Rv",
        "outputId": "f13f27ec-680a-4918-803f-ea5d98ac6476"
      },
      "execution_count": 10,
      "outputs": [
        {
          "output_type": "stream",
          "name": "stdout",
          "text": [
            "[1, 2, 3, 4, 5]\n"
          ]
        }
      ]
    },
    {
      "cell_type": "markdown",
      "source": [
        "## 7. Subsets of a List"
      ],
      "metadata": {
        "id": "1L314jTRa8rK"
      }
    },
    {
      "cell_type": "code",
      "source": [
        "def subsets(nums):\n",
        "    result = []\n",
        "\n",
        "    def backtrack(start, path):\n",
        "        result.append(path[:])\n",
        "        for i in range(start, len(nums)):\n",
        "            path.append(nums[i])\n",
        "            backtrack(i + 1, path)\n",
        "            path.pop()\n",
        "\n",
        "    backtrack(0, [])\n",
        "    return result\n",
        "\n",
        "\n",
        "print(subsets([1, 2, 3]))"
      ],
      "metadata": {
        "colab": {
          "base_uri": "https://localhost:8080/"
        },
        "id": "Q1HVpRAYa9ah",
        "outputId": "40624812-718f-4549-c0ac-6952966d9dbe"
      },
      "execution_count": 11,
      "outputs": [
        {
          "output_type": "stream",
          "name": "stdout",
          "text": [
            "[[], [1], [1, 2], [1, 2, 3], [1, 3], [2], [2, 3], [3]]\n"
          ]
        }
      ]
    },
    {
      "cell_type": "markdown",
      "source": [
        "## 8. Longest Increasing Subsequence"
      ],
      "metadata": {
        "id": "PvGywO2tUod6"
      }
    },
    {
      "cell_type": "code",
      "execution_count": null,
      "metadata": {
        "colab": {
          "base_uri": "https://localhost:8080/"
        },
        "id": "aLW3HzcfP9BL",
        "outputId": "e61e0f18-e6bb-48a9-b8f4-e9c27eea2e3e"
      },
      "outputs": [
        {
          "output_type": "stream",
          "name": "stdout",
          "text": [
            "4\n"
          ]
        }
      ],
      "source": [
        "def longest_seq(lst):\n",
        "    count = 1\n",
        "    for i in range(1, len(lst)):\n",
        "        if lst[i] > lst[i - 1]:\n",
        "            count += 1\n",
        "    return count\n",
        "\n",
        "print(longest_seq([10, 9, 2, 5, 3, 7, 101, 18]))"
      ]
    },
    {
      "cell_type": "markdown",
      "source": [
        "Q9"
      ],
      "metadata": {
        "id": "epHgj6nrZJH3"
      }
    },
    {
      "cell_type": "code",
      "source": [
        "def max_product(lst):\n",
        "    max_prod = lst[0] * lst[1]\n",
        "    for i in range(len(lst)):\n",
        "        for j in range(i + 1, len(lst)):\n",
        "            prod = lst[i] * lst[j]\n",
        "            if prod > max_prod:\n",
        "                max_prod = prod\n",
        "    return max_prod\n",
        "\n",
        "print(max_product([1, 10, -5, 1, 100]))"
      ],
      "metadata": {
        "colab": {
          "base_uri": "https://localhost:8080/"
        },
        "id": "znQA-JH0T0jt",
        "outputId": "7c8809bb-f1dd-4873-f1af-12782cd4ce6b"
      },
      "execution_count": null,
      "outputs": [
        {
          "output_type": "stream",
          "name": "stdout",
          "text": [
            "1000\n"
          ]
        }
      ]
    },
    {
      "cell_type": "markdown",
      "source": [
        "Q10"
      ],
      "metadata": {
        "id": "byGutFXBZLAv"
      }
    },
    {
      "cell_type": "code",
      "source": [
        "def most_frequent(s):\n",
        "    counts = {}\n",
        "    for char in s:\n",
        "        if char in counts:\n",
        "            counts[char] += 1\n",
        "        else:\n",
        "            counts[char] = 1\n",
        "\n",
        "    max_count = max(counts.values())\n",
        "    for char in sorted(counts):\n",
        "        if counts[char] == max_count:\n",
        "            return char\n",
        "\n",
        "print(most_frequent(\"aabbbc\"))"
      ],
      "metadata": {
        "colab": {
          "base_uri": "https://localhost:8080/"
        },
        "id": "xP5XE-PjT3SN",
        "outputId": "61e645cb-3947-4439-b8fc-371a0df19ec7"
      },
      "execution_count": null,
      "outputs": [
        {
          "output_type": "stream",
          "name": "stdout",
          "text": [
            "b\n"
          ]
        }
      ]
    },
    {
      "cell_type": "markdown",
      "source": [
        "Q11."
      ],
      "metadata": {
        "id": "xaQtLLlZZMRD"
      }
    },
    {
      "cell_type": "code",
      "source": [
        "def primes(n):\n",
        "    prime_list = []\n",
        "    for num in range(2, n):\n",
        "        is_prime = True\n",
        "        for i in range(2, num):\n",
        "            if num % i == 0:\n",
        "                is_prime = False\n",
        "                break\n",
        "        if is_prime:\n",
        "            prime_list.append(num)\n",
        "    return prime_list\n",
        "\n",
        "print(primes(10))"
      ],
      "metadata": {
        "colab": {
          "base_uri": "https://localhost:8080/"
        },
        "id": "ZYcz2IzdT6Xk",
        "outputId": "611e774c-e116-4dc6-e8a1-e28306ac627c"
      },
      "execution_count": null,
      "outputs": [
        {
          "output_type": "stream",
          "name": "stdout",
          "text": [
            "[2, 3, 5, 7]\n"
          ]
        }
      ]
    },
    {
      "cell_type": "markdown",
      "source": [
        "## 12. Sum of Variable-Length Arguments"
      ],
      "metadata": {
        "id": "K3TawLt_eYTl"
      }
    },
    {
      "cell_type": "code",
      "source": [
        "def sum_numbers(*args):\n",
        "    return sum(args)\n",
        "\n",
        "print(sum_numbers(2, 3, 4,5,6,10,21,88))"
      ],
      "metadata": {
        "colab": {
          "base_uri": "https://localhost:8080/"
        },
        "id": "9D7brS5AeX6x",
        "outputId": "2d744e91-545b-49bf-c5b7-8429e82ce511"
      },
      "execution_count": 12,
      "outputs": [
        {
          "output_type": "stream",
          "name": "stdout",
          "text": [
            "139\n"
          ]
        }
      ]
    },
    {
      "cell_type": "markdown",
      "source": [
        "## 13. Find the Student with Highest Score"
      ],
      "metadata": {
        "id": "1uo84enEes1j"
      }
    },
    {
      "cell_type": "code",
      "source": [
        "def highest_score_student(scores):\n",
        "    return max(scores, key=scores.get)\n",
        "\n",
        "students = {\"Ali\": 85, \"Usman\": 90, \"Charlie\": 92,\"Murphy\":79,\"Kate\":97}\n",
        "print(highest_score_student(students))"
      ],
      "metadata": {
        "id": "Yz3OkuyIXhKx",
        "colab": {
          "base_uri": "https://localhost:8080/"
        },
        "outputId": "78516730-dce4-41ea-d0d9-bea09ab28bf2"
      },
      "execution_count": 13,
      "outputs": [
        {
          "output_type": "stream",
          "name": "stdout",
          "text": [
            "Kate\n"
          ]
        }
      ]
    },
    {
      "cell_type": "markdown",
      "source": [
        "## 14. Apply Lambda to List"
      ],
      "metadata": {
        "id": "dT78Ls_BfJCd"
      }
    },
    {
      "cell_type": "code",
      "source": [
        "def apply_lambda(lst, func):\n",
        "    return [func(x) for x in lst]\n",
        "\n",
        "\n",
        "numbers = [1, 2, 3, 4,19,8,44]\n",
        "square = lambda x: x ** 2  # Here we define the lambda function to square numbers\n",
        "print(apply_lambda(numbers, square))"
      ],
      "metadata": {
        "colab": {
          "base_uri": "https://localhost:8080/"
        },
        "id": "ofMC_fp9fM8T",
        "outputId": "e596ef07-6f36-40b5-a486-663cd67c7f28"
      },
      "execution_count": 15,
      "outputs": [
        {
          "output_type": "stream",
          "name": "stdout",
          "text": [
            "[1, 4, 9, 16, 361, 64, 1936]\n"
          ]
        }
      ]
    },
    {
      "cell_type": "markdown",
      "source": [
        "## 15. Sum or Multiply Based on Keyword Argument"
      ],
      "metadata": {
        "id": "iYNFo7oLfhkd"
      }
    },
    {
      "cell_type": "code",
      "source": [
        "def calculate(*args, operation='sum'):\n",
        "    result = 1 if operation == 'multiply' else 0\n",
        "    for num in args:\n",
        "        result = result * num if operation == 'multiply' else result + num\n",
        "    return result\n",
        "\n",
        "\n",
        "print(calculate(1, 2, 3, 4, operation='multiply'))\n",
        "print(calculate(1, 2, 3, 4))"
      ],
      "metadata": {
        "colab": {
          "base_uri": "https://localhost:8080/"
        },
        "id": "fcreUPR_fmWa",
        "outputId": "23c36d09-30e9-4fdf-e0a5-430b0807580b"
      },
      "execution_count": 16,
      "outputs": [
        {
          "output_type": "stream",
          "name": "stdout",
          "text": [
            "24\n",
            "10\n"
          ]
        }
      ]
    }
  ]
}